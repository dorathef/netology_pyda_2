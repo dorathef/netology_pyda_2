{
 "cells": [
  {
   "cell_type": "markdown",
   "metadata": {},
   "source": [
    "# Задание к лекции \"Функции\".\n",
    "Для зачета необходимо правильно выполнить 4 заданий из 6.  \n",
    "Для зачета с отличием – все 6."
   ]
  },
  {
   "cell_type": "markdown",
   "metadata": {},
   "source": [
    "## Задание 1"
   ]
  },
  {
   "cell_type": "markdown",
   "metadata": {},
   "source": [
    "Дан список вида:"
   ]
  },
  {
   "cell_type": "code",
   "execution_count": 3,
   "metadata": {},
   "outputs": [],
   "source": [
    "data = [\n",
    "    [13, 25, 23, 34],\n",
    "    [45, 32, 44, 47],\n",
    "    [12, 33, 23, 95],\n",
    "    [13, 53, 34, 35]\n",
    "]"
   ]
  },
  {
   "cell_type": "markdown",
   "metadata": {},
   "source": [
    "Напишите функцию, которая возвращает сумму элементов на диагонали. Т. е. 13+32+23+35.  \n",
    "Список может быть любой длины, но всегда является \"квадратным\" (количество элементов во вложенных списках равно их количеству)."
   ]
  },
  {
   "cell_type": "code",
   "execution_count": 7,
   "metadata": {},
   "outputs": [],
   "source": [
    "def diagonal_sum ():\n",
    "    numbs = []\n",
    "    i = 0\n",
    "    for new_list in data:\n",
    "        numbs.append(new_list[i])\n",
    "        i += 1\n",
    "    result = sum(numbs)\n",
    "    print('Сумма элементов по диагонали — ', result)"
   ]
  },
  {
   "cell_type": "code",
   "execution_count": 8,
   "metadata": {},
   "outputs": [
    {
     "name": "stdout",
     "output_type": "stream",
     "text": [
      "Сумма элементов по диагонали —  103\n"
     ]
    }
   ],
   "source": [
    "diagonal_sum ()"
   ]
  },
  {
   "cell_type": "markdown",
   "metadata": {},
   "source": [
    "## Задание 2"
   ]
  },
  {
   "cell_type": "markdown",
   "metadata": {},
   "source": [
    "Напишите функцию, возвращающую сумму первых n чисел Фибоначчи (для этого вам может понадобится ознакомиться с рекурсией)."
   ]
  },
  {
   "cell_type": "code",
   "execution_count": 4,
   "metadata": {},
   "outputs": [],
   "source": [
    "def list_fib(n):\n",
    "    \"\"\" Генерирует первые n чисел Фибона́ччи \"\"\"\n",
    "    fib = [0, 1]\n",
    "    f0 = 0\n",
    "    f1 = 1\n",
    "    for i in range(2, n):\n",
    "        fib.append(fib[i-1] + fib[i-2])\n",
    "    return fib\n",
    "\n",
    "def summ_fib(n):\n",
    "    fib = list_fib(n)\n",
    "    summ = 0\n",
    "    for num in fib:\n",
    "        summ += num\n",
    "    print(fib)\n",
    "    print(summ)"
   ]
  },
  {
   "cell_type": "code",
   "execution_count": 5,
   "metadata": {},
   "outputs": [
    {
     "name": "stdout",
     "output_type": "stream",
     "text": [
      "[0, 1, 1, 2, 3, 5, 8, 13, 21, 34, 55, 89, 144, 233, 377]\n",
      "986\n"
     ]
    }
   ],
   "source": [
    "summ_fib(15)"
   ]
  },
  {
   "cell_type": "markdown",
   "metadata": {},
   "source": [
    "## Задание 3"
   ]
  },
  {
   "cell_type": "markdown",
   "metadata": {},
   "source": [
    "Напишите программу (она может состоять из нескольких функций), которая будет запрашивать у пользователя количество гостей и список блюд, которые будут подаваться каждому гостю. В результате программа должна выдавать список покупок, состоящий из ингредиентов, которые нужно купить в магазине (если ингредиенты повторяются, то их нужно записать одной строкой, а не отдельно).\n",
    "\n",
    "Пример:\n",
    "\n",
    "вызов\\_главной\\_функций()\n",
    "\n",
    "Введите количество гостей: 3  \n",
    "Введите блюда через пробел: пицца пицца лимонад\n",
    "\n",
    "Список покупок:  \n",
    "сыр 120 гр  \n",
    "колбаса 180 гр  \n",
    "бекон 180 гр  \n",
    "оливки 60 гр  \n",
    "томаты 120 гр  \n",
    "тесто 600 гр  \n",
    "лимон 3 шт  \n",
    "вода 600 мл  \n",
    "сахар 30 гр  \n",
    "лайм 60 гр  "
   ]
  },
  {
   "cell_type": "code",
   "execution_count": 17,
   "metadata": {},
   "outputs": [],
   "source": [
    "cook_book = {\n",
    "  'салат': [\n",
    "     {'ingridient_name': 'сыр', 'quantity': 50, 'measure': 'гр'},\n",
    "     {'ingridient_name': 'томаты', 'quantity': 20, 'measure': 'гр'},\n",
    "     {'ingridient_name': 'огурцы', 'quantity': 20, 'measure': 'гр'},\n",
    "     {'ingridient_name': 'маслины', 'quantity': 10, 'measure': 'гр'},\n",
    "     {'ingridient_name': 'оливковое масло', 'quantity': 20, 'measure': 'мл'},\n",
    "     {'ingridient_name': 'салат', 'quantity': 10, 'measure': 'гр'},\n",
    "     {'ingridient_name': 'перец', 'quantity': 20, 'measure': 'гр'}\n",
    "    ],\n",
    "  'пицца': [\n",
    "     {'ingridient_name': 'сыр', 'quantity': 20, 'measure': 'гр'},\n",
    "     {'ingridient_name': 'колбаса', 'quantity': 30, 'measure': 'гр'},\n",
    "     {'ingridient_name': 'бекон', 'quantity': 30, 'measure': 'гр'},\n",
    "     {'ingridient_name': 'оливки', 'quantity': 10, 'measure': 'гр'},\n",
    "     {'ingridient_name': 'томаты', 'quantity': 20, 'measure': 'гр'},\n",
    "     {'ingridient_name': 'тесто', 'quantity': 100, 'measure': 'гр'},   \n",
    "    ],\n",
    "  'лимонад': [\n",
    "     {'ingridient_name': 'лимон', 'quantity': 1, 'measure': 'шт'},\n",
    "     {'ingridient_name': 'вода', 'quantity': 200, 'measure': 'мл'},\n",
    "     {'ingridient_name': 'сахар', 'quantity': 10, 'measure': 'гр'},\n",
    "     {'ingridient_name': 'лайм', 'quantity': 20, 'measure': 'гр'},    \n",
    "    ]\n",
    "}"
   ]
  },
  {
   "cell_type": "code",
   "execution_count": 18,
   "metadata": {},
   "outputs": [],
   "source": [
    "def make_shop_list():\n",
    "    n = int(input('Введите количество гостей: '))\n",
    "    new_list = input('Введите блюда с маленькой буквы через пробел (пример: пицца пицца лимонад): ').split()\n",
    "    \n",
    "    dish_dic = {}\n",
    "    new_cook_book = dict(cook_book)\n",
    "    shop_book = {}\n",
    "\n",
    "    for x in new_list:\n",
    "        dish_dic.setdefault(x, 0)\n",
    "        dish_dic[x] += 1*n\n",
    "    \n",
    "    for dish in cook_book:\n",
    "        if dish not in dish_dic:\n",
    "            del(new_cook_book[dish])\n",
    "    \n",
    "    for dish in new_cook_book:\n",
    "        for ingridient in new_cook_book[dish]:\n",
    "            ingridient['quantity'] = ingridient['quantity'] * int(dish_dic[dish])\n",
    "            \n",
    "    for dish in new_cook_book:\n",
    "        for ingridient in new_cook_book[dish]:\n",
    "            if ingridient['ingridient_name'] not in shop_book:\n",
    "                shop_book.setdefault(ingridient['ingridient_name'], ingridient)\n",
    "            else:\n",
    "                shop_book[ingridient['ingridient_name']]['quantity'] += ingridient['quantity'] \n",
    "                \n",
    "    for item in shop_book.values():\n",
    "        print(f'{item[\"ingridient_name\"]}, {item[\"quantity\"]}{item[\"measure\"]}')"
   ]
  },
  {
   "cell_type": "code",
   "execution_count": 19,
   "metadata": {},
   "outputs": [
    {
     "name": "stdout",
     "output_type": "stream",
     "text": [
      "Введите количество гостей: 3\n",
      "Введите блюда с маленькой буквы через пробел (пример: пицца пицца лимонад): пицца пицца салат салат салат лимонад\n",
      "сыр, 570гр\n",
      "томаты, 300гр\n",
      "огурцы, 180гр\n",
      "маслины, 90гр\n",
      "оливковое масло, 180мл\n",
      "салат, 90гр\n",
      "перец, 180гр\n",
      "колбаса, 180гр\n",
      "бекон, 180гр\n",
      "оливки, 60гр\n",
      "тесто, 600гр\n",
      "лимон, 3шт\n",
      "вода, 600мл\n",
      "сахар, 30гр\n",
      "лайм, 60гр\n"
     ]
    }
   ],
   "source": [
    "make_shop_list()"
   ]
  },
  {
   "cell_type": "markdown",
   "metadata": {},
   "source": [
    "## Задание 4"
   ]
  },
  {
   "cell_type": "markdown",
   "metadata": {},
   "source": [
    "Вы работаете секретарем и вам постоянно приходят различные документы. Вы должны быть очень внимательны, чтобы не потерять ни один документ. Каталог документов хранится в следующем виде:"
   ]
  },
  {
   "cell_type": "code",
   "execution_count": 24,
   "metadata": {},
   "outputs": [],
   "source": [
    "documents = [\n",
    "    {'type': 'passport', 'number': '2207 876234', 'name': 'Василий Гупкин'},\n",
    "    {'type': 'invoice', 'number': '11-2', 'name': 'Геннадий Покемонов'},\n",
    "    {'type': 'insurance', 'number': '10006', 'name': 'Аристарх Павлов'}\n",
    "]"
   ]
  },
  {
   "cell_type": "markdown",
   "metadata": {},
   "source": [
    "Перечень полок, на которых находятся документы хранится в следующем виде:"
   ]
  },
  {
   "cell_type": "code",
   "execution_count": 102,
   "metadata": {},
   "outputs": [],
   "source": [
    "directories = {\n",
    "    '1': ['2207 876234', '11-2', '5455 028765'],\n",
    "    '2': ['10006', '5400 028765', '5455 002299'],\n",
    "    '3': []\n",
    "}"
   ]
  },
  {
   "cell_type": "markdown",
   "metadata": {},
   "source": [
    "Необходимо реализовать пользовательские команды (внимание! это не название функций, которые должны быть выразительными, а команды, которые вводит пользователь, чтобы получить необходимый результат):\n",
    "  \n",
    "- p – people – команда, которая спросит номер документа и выведет имя человека, которому он принадлежит;  \n",
    "- s – shelf – команда, которая спросит номер документа и выведет номер полки, на которой он находится  \n",
    "Правильно обработайте ситуацию, когда пользователь будет вводить несуществующий документ."
   ]
  },
  {
   "cell_type": "code",
   "execution_count": 106,
   "metadata": {},
   "outputs": [],
   "source": [
    "def people():\n",
    "    number = input('Введите номер документа: ')\n",
    "    x = ''\n",
    "    for line in documents:\n",
    "        if number in line['number']:\n",
    "            x = line['name']\n",
    "    if x == '':\n",
    "        print('Документа с таким номером нет в базе')\n",
    "    else:\n",
    "        print(f'Имя владельца — {x}')\n",
    "    "
   ]
  },
  {
   "cell_type": "code",
   "execution_count": 107,
   "metadata": {},
   "outputs": [],
   "source": [
    "def shelf():\n",
    "    number = input('Введите номер документа: ')\n",
    "    x = ''\n",
    "    for num in directories:\n",
    "        if number in directories[num]:\n",
    "            x = num\n",
    "    if x == '':\n",
    "        print('Документа с таким номером нет в базе')\n",
    "    else:\n",
    "        print(f'Вам нужна полка номер {x}')"
   ]
  },
  {
   "cell_type": "code",
   "execution_count": 108,
   "metadata": {},
   "outputs": [],
   "source": [
    "def list_():\n",
    "    for line in documents:\n",
    "        print(line['type']+' \"'+line['number']+'\" \"'+line['name']+'\"')"
   ]
  },
  {
   "cell_type": "code",
   "execution_count": 109,
   "metadata": {},
   "outputs": [],
   "source": [
    "def add_shelf():\n",
    "    print('Сейчас есть следующие полки: ')\n",
    "    shelf_list = []\n",
    "    for num in directories.keys():\n",
    "        shelf_list.append(num)\n",
    "    print(shelf_list)\n",
    "    number = str(input('Введите номер новой полки: '))\n",
    "    \n",
    "    if number not in directories.keys():\n",
    "        directories.setdefault(number, [])\n",
    "    else:\n",
    "        print('Такая полка уже есть')\n",
    "    \n",
    "    shelf_list = []\n",
    "    for num in directories.keys():\n",
    "        shelf_list.append(num)\n",
    "    print(shelf_list)"
   ]
  },
  {
   "cell_type": "code",
   "execution_count": 110,
   "metadata": {},
   "outputs": [],
   "source": [
    "def command():\n",
    "    print('Список имеющихся команд: ')\n",
    "    print('p - команда, которая по номеру документа выводит имя владельца')\n",
    "    print('s - команда, которая по номеру документа выводит номер полки его хранения')\n",
    "    print('l - команда, которая выводит список всех документов')\n",
    "    print('as - команда, которая добавляет новый номер полки')\n",
    "  \n",
    "    x = input('Введите команду: ')\n",
    "    \n",
    "    if x == 'p':\n",
    "        people()\n",
    "    elif x == 's':\n",
    "        shelf()\n",
    "    elif x == 'l':\n",
    "        list_()\n",
    "    elif x == 'as':\n",
    "        add_shelf()\n",
    "    else:\n",
    "        print('Такой команды нет')"
   ]
  },
  {
   "cell_type": "code",
   "execution_count": 111,
   "metadata": {},
   "outputs": [
    {
     "name": "stdout",
     "output_type": "stream",
     "text": [
      "Список имеющихся команд: \n",
      "p - команда, которая по номеру документа выводит имя владельца\n",
      "s - команда, которая по номеру документа выводит номер полки его хранения\n",
      "l - команда, которая выводит список всех документов\n",
      "as - команда, которая добавляет новый номер полки\n",
      "Введите команду: s\n",
      "Введите номер документа: 11-2\n",
      "Вам нужна полка номер 1\n"
     ]
    }
   ],
   "source": [
    "command()"
   ]
  },
  {
   "cell_type": "markdown",
   "metadata": {},
   "source": [
    "## Задание 5"
   ]
  },
  {
   "cell_type": "markdown",
   "metadata": {},
   "source": [
    "К условию из задания 4 реализуйте следующие команды:\n",
    "  \n",
    "- l – list – команда, которая выведет список всех документов в формате   \n",
    "**passport \"2207 876234\" \"Василий Гупкин\"**  \n",
    "- as – add shelf – команда, которая спросит номер новой полки и добавит ее в перечень"
   ]
  },
  {
   "cell_type": "markdown",
   "metadata": {},
   "source": [
    "## Задание 6"
   ]
  },
  {
   "cell_type": "markdown",
   "metadata": {},
   "source": [
    "К условию из задания 5 реализуйте следующие команды:  \n",
    "  \n",
    "- d – delete – команда, которая спросит номер документа и удалит его из каталога и из перечня полок. Предусмотрите сценарий, когда пользователь вводит несуществующий документ;  \n",
    "- m – move – команда, которая спросит номер документа и целевую полку и переместит его с текущей полки на целевую. Корректно обработайте кейсы, когда пользователь пытается переместить несуществующий документ или переместить документ на несуществующую полку;  \n",
    "- a – add – команда, которая добавит новый документ в каталог и в перечень полок, спросив его номер, тип, имя владельца и номер полки, на котором он будет храниться."
   ]
  },
  {
   "cell_type": "code",
   "execution_count": null,
   "metadata": {},
   "outputs": [],
   "source": []
  }
 ],
 "metadata": {
  "kernelspec": {
   "display_name": "Python 3",
   "language": "python",
   "name": "python3"
  },
  "language_info": {
   "codemirror_mode": {
    "name": "ipython",
    "version": 3
   },
   "file_extension": ".py",
   "mimetype": "text/x-python",
   "name": "python",
   "nbconvert_exporter": "python",
   "pygments_lexer": "ipython3",
   "version": "3.7.3"
  }
 },
 "nbformat": 4,
 "nbformat_minor": 2
}
