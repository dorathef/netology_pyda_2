{
 "cells": [
  {
   "cell_type": "markdown",
   "metadata": {},
   "source": [
    "**Задание 1**. Даны 2 строки: *long_phrase* и *short_phrase*. \n",
    "Напишите код, который проверяет действительно ли длинная фраза *long_phrase* длиннее короткой *short_phrase*. И выводит *True* или *False* в зависимости от результата сравнения."
   ]
  },
  {
   "cell_type": "code",
   "execution_count": 1,
   "metadata": {},
   "outputs": [],
   "source": [
    "long_phrase = 'Насколько проще было бы писать программы, если бы не заказчики'\n",
    "short_phrase = '640Кб должно хватить для любых задач. Билл Гейтс (по легенде)'"
   ]
  },
  {
   "cell_type": "code",
   "execution_count": 4,
   "metadata": {},
   "outputs": [
    {
     "data": {
      "text/plain": [
       "True"
      ]
     },
     "execution_count": 4,
     "metadata": {},
     "output_type": "execute_result"
    }
   ],
   "source": [
    "len(long_phrase) > len(short_phrase)"
   ]
  },
  {
   "cell_type": "markdown",
   "metadata": {},
   "source": [
    "**Задание 2**. Дано значение объема файла в байтах. Напишите перевод этого значения в мегабайты в формате: \"*Объем файла равен 213.68Mb*\""
   ]
  },
  {
   "cell_type": "code",
   "execution_count": null,
   "metadata": {},
   "outputs": [],
   "source": [
    "file_size_b = int(input('Введите объем файла в байтах: '))\n",
    "file_size_mb = round(file_size_b / 2**20, 2)\n",
    "print ('Объём файла равен', file_size_mb, 'Mb')"
   ]
  },
  {
   "cell_type": "markdown",
   "metadata": {},
   "source": [
    "**Задание 3**. Разработать приложение для определения знака зодиака по дате рождения. Пример:\n",
    "\n",
    "Введите месяц: март\n",
    "\n",
    "Введите число: 6\n",
    "\n",
    "Вывод:\n",
    "Рыбы"
   ]
  },
  {
   "cell_type": "code",
   "execution_count": 7,
   "metadata": {},
   "outputs": [
    {
     "ename": "IndentationError",
     "evalue": "unindent does not match any outer indentation level (<tokenize>, line 6)",
     "output_type": "error",
     "traceback": [
      "\u001b[1;36m  File \u001b[1;32m\"<tokenize>\"\u001b[1;36m, line \u001b[1;32m6\u001b[0m\n\u001b[1;33m    else:\u001b[0m\n\u001b[1;37m    ^\u001b[0m\n\u001b[1;31mIndentationError\u001b[0m\u001b[1;31m:\u001b[0m unindent does not match any outer indentation level\n"
     ]
    }
   ],
   "source": [
    "print('Формать ввода данных: месяц - январь, февраль и тд; число - 1, 2, 3, 4 и тд.')\n",
    "month = input('Введите месяц:')\n",
    "day = int(input('Введите число:'))\n",
    "if month == 'январь':\n",
    "    if day >= 21:\n",
    "        zodiac = 'Водолей'\n",
    "    else: \n",
    "        zodiac = 'Козерог'\n",
    "elif month == 'февраль':\n",
    "    if day >= 20:\n",
    "        zodiac = 'Рыбы'\n",
    "    else:\n",
    "        zodiac = 'Водолей'\n",
    "elif month == 'март':\n",
    "    if day >= 21:\n",
    "        zodiac = 'Овен'\n",
    "    else:\n",
    "        zodiac = 'Рыбы'\n",
    "elif month == 'апрель':\n",
    "    if day >= 21:\n",
    "        zodiac = 'Телец'\n",
    "    else:\n",
    "        zodiac = 'Овен'\n",
    "elif month == 'май':\n",
    "    if day >= 22:\n",
    "        zodiac = 'Близнецы'\n",
    "    else:\n",
    "        zodiac = 'Телец'\n",
    "elif month == 'июнь':\n",
    "    if day >= 22:\n",
    "        zodiac = 'Рак'\n",
    "    else:\n",
    "        zodiac = 'Близнецы'\n",
    "elif month == 'июль':\n",
    "    if day >= 23:\n",
    "        zodiac = 'Лев'\n",
    "    else:\n",
    "        zodiac = 'Рак'\n",
    "elif month == 'август':\n",
    "    if day >= 22:\n",
    "        zodiac = 'Дева'\n",
    "    else:\n",
    "        zodiac = 'Лев'\n",
    "elif month == 'сентябрь':\n",
    "    if day >= 24:\n",
    "        zodiac = 'Весы'\n",
    "    else:\n",
    "        zodiac = 'Дева'\n",
    "elif month == 'октябрь':\n",
    "    if day >= 24:\n",
    "        zodiac = 'Скорпион'\n",
    "    else:\n",
    "        zodiac = 'Весы'\n",
    "elif month == 'ноябрь':\n",
    "    if day >= 23:\n",
    "        zodiac = 'Стрелец'\n",
    "    else:\n",
    "        zodiac = 'Скрпион'\n",
    "elif month == 'декабрь':\n",
    "    if day >= 23:\n",
    "        zodiac = 'Козерог'\n",
    "    else:\n",
    "        zodiac = 'Стрелец'\n",
    "print ('Знак зодиака:', zodiac)"
   ]
  },
  {
   "cell_type": "markdown",
   "metadata": {},
   "source": [
    "**Задание 4**. Нужно разработать приложение для финансового планирования.\n",
    "Приложение учитывает сколько уходит на ипотеку, \"на жизнь\" и сколько нужно отложить на пенсию.\n",
    "Пользователь вводит:\n",
    "- заработанную плату в месяц.\n",
    "- сколько процентов от ЗП уходит на ипотеку.\n",
    "- сколько процентов от ЗП уходит \"на жизнь\".\n",
    "- сколько раз приходит премия в год.\n",
    "\n",
    "Остальная часть заработанной платы откладывается на пенсию.\n",
    "\n",
    "Также пользователю приходит премия в размере зарплаты, от которой половина уходит на отпуск, а вторая половина откладывается.\n",
    "\n",
    "Программа должна учитывать сколько премий было в год.\n",
    "\n",
    "Нужно вывести сколько денег тратит пользователь на ипотеку и сколько он накопит за год.\n",
    "\n",
    "Пример:\n",
    "\n",
    "Введите заработанную плату в месяц: 100000\n",
    "\n",
    "Введите сколько процентов уходит на ипотеку: 30\n",
    "\n",
    "Введите сколько процентов уходит на жизнь: 50\n",
    "\n",
    "Введите количество премий за год: 2\n",
    "\n",
    "Вывод:\n",
    "На ипотеку было потрачено: 360000 рублей\n",
    "Было накоплено: 340000 рублей"
   ]
  },
  {
   "cell_type": "code",
   "execution_count": 8,
   "metadata": {},
   "outputs": [
    {
     "name": "stdout",
     "output_type": "stream",
     "text": [
      "Введите заработную плату в месяц: 100000\n",
      "Введите процент от зарплаты, уходящий на ипотеку: 30\n",
      "Введите проуент от зарплаты, уходящий на жизнь: 50\n",
      "Введите количество премий за год: 2\n",
      "На ипотеку было потрачено: 360000.0 рублей\n",
      "Было накоплено: 340000.0 рублей\n"
     ]
    }
   ],
   "source": [
    "salary = int(input('Введите заработную плату в месяц: '))\n",
    "mortgage = int(input('Введите процент от зарплаты, уходящий на ипотеку: '))\n",
    "routine = int(input('Введите проуент от зарплаты, уходящий на жизнь: '))\n",
    "premium = int(input('Введите количество премий за год: '))\n",
    "mortgage_sum = (salary * mortgage / 100) * 12                               # скобки добавяю для ясности\n",
    "routine_sum = (salary * routine / 100) * 12 + (salary * premium / 2)\n",
    "total_accum = (salary * 12 + salary * premium) - (mortgage_sum + routine_sum)\n",
    "\n",
    "print('На ипотеку было потрачено:', mortgage_sum, 'рублей')\n",
    "print('Было накоплено:', total_accum, 'рублей')"
   ]
  }
 ],
 "metadata": {
  "kernelspec": {
   "display_name": "Python 3",
   "language": "python",
   "name": "python3"
  },
  "language_info": {
   "codemirror_mode": {
    "name": "ipython",
    "version": 3
   },
   "file_extension": ".py",
   "mimetype": "text/x-python",
   "name": "python",
   "nbconvert_exporter": "python",
   "pygments_lexer": "ipython3",
   "version": "3.7.3"
  }
 },
 "nbformat": 4,
 "nbformat_minor": 2
}
